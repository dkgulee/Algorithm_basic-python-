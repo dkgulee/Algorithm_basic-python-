{
 "cells": [
  {
   "cell_type": "markdown",
   "metadata": {},
   "source": [
    "## 연결 리스트(Linked List)\n",
    "### Node와 LInk라는 용어 사용"
   ]
  },
  {
   "cell_type": "code",
   "execution_count": 9,
   "metadata": {},
   "outputs": [],
   "source": [
    "from IPython.display import Image\n",
    "\n",
    "class Node:\n",
    "    def __init__(self, data, next=None):\n",
    "        self.data = data\n",
    "        self.next = next"
   ]
  },
  {
   "cell_type": "markdown",
   "metadata": {},
   "source": [
    "![title](../img/3.Node.png)\n",
    "위 그림을 자세히 보면 링크에 화살표로 되어 있는 방향이 있음을 알 수 있다.\n",
    "위의 그림은 다음 노드를 가리키는 링크만이 존재하는 노드다. 이처럼 자신의 노드에서 다음의 노드만을 가리킬 수 있는 형태가 전형적인 연결 리스트의 형태이다"
   ]
  },
  {
   "cell_type": "markdown",
   "metadata": {},
   "source": [
    "## 연결 리스트의 특징\n",
    "### 연결리스트의 장점은 곧 배열의 단점이다.\n",
    "### 배열 : 동일한 자료형을 갖는 데이터의 집합\n",
    "- 연속적\n",
    "- 배열을 생성할 떄 한번에 총 메모리를 확보하여 사용할 수 있기 때문에 프로그램이 실행되는 중간에 배열의 크기를 바꿀 수 없다.\n",
    "\n",
    "**∴배열의 단점은 배열 안에 저장되어 있는 값들을 정렬할 떄도 일일이 메모리에 저장되어 있는 값을 바꾸어주어야 한다.**\n",
    "\n",
    "## 연결 리스트의 삽입과 삭제 알고리즘\n",
    "\n",
    "\n",
    "### 3.2.1 연결 리스트의 초기화 \n",
    "![title](../img/4.Node.png)\n"
   ]
  },
  {
   "cell_type": "code",
   "execution_count": 12,
   "metadata": {},
   "outputs": [
    {
     "name": "stdout",
     "output_type": "stream",
     "text": [
      "A\n",
      "B\n",
      "C\n",
      "B\n"
     ]
    }
   ],
   "source": [
    "class Node:\n",
    "    def __init__(self, data, next=None):\n",
    "        self.data = data\n",
    "        self.next = next\n",
    "        \n",
    "    def init_list():\n",
    "        global node_A\n",
    "        node_A = Node(\"A\")\n",
    "        node_B = Node(\"B\")\n",
    "        node_C = Node(\"C\")\n",
    "        node_D = Node(\"B\")\n",
    "        node_A.next = node_B\n",
    "        node_B.next = node_C\n",
    "        node_C.next = node_D\n",
    "        \n",
    "    def print_list():\n",
    "        global node_A\n",
    "        node = node_A\n",
    "        while node:\n",
    "            print(node.data)\n",
    "            node = node.next\n",
    "        print\n",
    "    if __name__ == '__main__':\n",
    "        init_list()\n",
    "        print_list()"
   ]
  },
  {
   "attachments": {},
   "cell_type": "markdown",
   "metadata": {},
   "source": [
    "## 3.2.1 연결 리스트의 삽입 알고리즘\n",
    "- 배열과 달리 연결 리스트는 각각의 **노드가 링크로 연결되어 있다** 따라서 중간에 어떤 값을 노드를 연결시키는 것도 간단하다\n",
    "![title](../img/5.Node.png)\n",
    "\n",
    "위의 그림대로 코드를 작성하면 다음과 같다"
   ]
  },
  {
   "cell_type": "code",
   "execution_count": 27,
   "metadata": {},
   "outputs": [
    {
     "name": "stdout",
     "output_type": "stream",
     "text": [
      "연결 리스트 초기화 후\n",
      "A\n",
      "B\n",
      "D\n",
      "E\n",
      "노드C를 추가후\n",
      "A\n",
      "B\n",
      "C\n",
      "D\n",
      "E\n"
     ]
    }
   ],
   "source": [
    "class Node:\n",
    "    def __init__(self, data, next=None):\n",
    "        self.data = data\n",
    "        self.next = next\n",
    "        \n",
    "    def init_list():\n",
    "        global node_A  # 전역변수\n",
    "        node_A = Node(\"A\")\n",
    "        node_B = Node(\"B\")\n",
    "        node_D = Node(\"D\")\n",
    "        node_E = Node(\"E\")\n",
    "        node_A.next = node_B\n",
    "        node_B.next = node_D\n",
    "        node_D.next = node_E\n",
    "    \n",
    "    def delete_node(del_data):\n",
    "        global node_A\n",
    "        pre_node = node_A\n",
    "        next_node = pre_node.next\n",
    "        \n",
    "        if pre_node.data == del_data:\n",
    "            node_A = next_node\n",
    "            del pre_node\n",
    "            return \n",
    "        while next_node:\n",
    "            if next_node.data == del_data:\n",
    "                pre_node.next = next_node.next\n",
    "                del next_node\n",
    "                break\n",
    "            pre_node = next_node\n",
    "            next_node = next_node.next\n",
    "        \n",
    "    def inser_node(data):\n",
    "        global node_A\n",
    "        new_node = Node(data)\n",
    "        node_P = node_A\n",
    "        node_T = node_A\n",
    "        while node_T.data <= data:\n",
    "            node_P = node_T\n",
    "            node_T = node_T.next\n",
    "        new_node.next = node_T\n",
    "        node_P.next = new_node\n",
    "    \n",
    "    def print_list():\n",
    "        global node_A\n",
    "        node = node_A\n",
    "        while node:\n",
    "            print(node.data)\n",
    "            node = node.next\n",
    "        print\n",
    "        \n",
    "    \n",
    "    if __name__ == '__main__':\n",
    "        print(\"연결 리스트 초기화 후\")\n",
    "        init_list()\n",
    "        print_list()\n",
    "        print(\"노드C를 추가후\")\n",
    "        inser_node(\"C\")\n",
    "        print_list()"
   ]
  },
  {
   "cell_type": "code",
   "execution_count": null,
   "metadata": {},
   "outputs": [],
   "source": []
  }
 ],
 "metadata": {
  "kernelspec": {
   "display_name": "Python 3",
   "language": "python",
   "name": "python3"
  },
  "language_info": {
   "codemirror_mode": {
    "name": "ipython",
    "version": 3
   },
   "file_extension": ".py",
   "mimetype": "text/x-python",
   "name": "python",
   "nbconvert_exporter": "python",
   "pygments_lexer": "ipython3",
   "version": "3.7.4"
  }
 },
 "nbformat": 4,
 "nbformat_minor": 2
}
