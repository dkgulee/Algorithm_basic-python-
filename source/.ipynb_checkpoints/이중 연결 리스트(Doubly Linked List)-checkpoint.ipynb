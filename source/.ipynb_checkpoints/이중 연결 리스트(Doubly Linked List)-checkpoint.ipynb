{
 "cells": [
  {
   "cell_type": "markdown",
   "metadata": {},
   "source": [
    "# 이중 연결 리스트\n",
    "### 연결 리스트가 한 방향으로만 이동이 가능한 자료구조라면 이중 연결리스트는 앞, 뒤 양방향으로 이동이 가능한 자료구조이다.\n",
    "\n",
    "\n",
    "## 이중 연결 리스트의 개념\n",
    "연결 리스트는 배열과 달리 프로그램의 실행 중에도 동적으로 새로운 노드를 삽입하거나 삭제하기가 간단하며,  물리적인 메모리를 연속적으로 사용하지 않고 링크를 사용하기 떄문에 관리하기가 훨씬 쉽다\n",
    "단일 연결 리스트는 무조건 한 방향으로만 링크를 따라가야 하기 떄문에 다소 불편한 점이 있다.\n",
    "**실제로는  링크가 하나더 추가되었다는 점을 제외하고는 그다지 바뀐부분이 없다**"
   ]
  },
  {
   "cell_type": "code",
   "execution_count": 4,
   "metadata": {},
   "outputs": [
    {
     "name": "stdout",
     "output_type": "stream",
     "text": [
      "연결 리스트 초기화\n",
      "A\n",
      "B\n",
      "D\n",
      "E\n"
     ]
    }
   ],
   "source": [
    "class Node:\n",
    "    def __init__(self, data, next=None, prev=None):\n",
    "        self.data = data\n",
    "        self.next = next\n",
    "        self.prev = prev\n",
    "        \n",
    "    \n",
    "    def init_list():\n",
    "        global node_A\n",
    "        node_A = Node(\"A\")\n",
    "        node_B = Node(\"B\")\n",
    "        node_D = Node(\"D\")\n",
    "        node_E = Node(\"E\")\n",
    "        node_A.next = node_B\n",
    "        node_B.prev = node_A\n",
    "        node_B.next = node_D\n",
    "        node_D.prev = node_B\n",
    "        node_D.next = node_E\n",
    "        node_E.prev = node_D\n",
    "        \n",
    "    \n",
    "    def print_list():\n",
    "        global node_A\n",
    "        node = node_A\n",
    "        while node:\n",
    "            print(node.data)\n",
    "            node = node.next\n",
    "        print\n",
    "        \n",
    "    if __name__ == '__main__':\n",
    "        print(\"연결 리스트 초기화\")\n",
    "        init_list()\n",
    "        print_list()"
   ]
  },
  {
   "cell_type": "markdown",
   "metadata": {},
   "source": [
    "##  이중 연결 리스트의 삽입 알고리즘\n",
    "이중 연결 리스트는 링크가 하나 더 추가됬기 때문에 삽입과 삭제 알고리즘도 단일 연결 리스트와는 다르다.\n",
    "\n",
    "![title](../img/1.Doubly_linked_list(insert).png)\n",
    "\n",
    "\n",
    "1. 연결리스트의 삽입 알고리즘과 같데 next 값만 넣어준다\n",
    "2. new_node 의 prev설정하고 node_N 의 prev 값을 재설정 해준다"
   ]
  },
  {
   "cell_type": "code",
   "execution_count": 5,
   "metadata": {},
   "outputs": [
    {
     "name": "stdout",
     "output_type": "stream",
     "text": [
      "연결 리스트 초기화\n",
      "A\n",
      "B\n",
      "D\n",
      "E\n",
      "<노드 C의 추가>\n",
      "A\n",
      "B\n",
      "C\n",
      "D\n",
      "E\n"
     ]
    }
   ],
   "source": [
    "class Node:\n",
    "    def __init__(self, data, next=None, prev=None):\n",
    "        self.data = data\n",
    "        self.next = next\n",
    "        self.prev = prev\n",
    "        \n",
    "    \n",
    "    def init_list():\n",
    "        global node_A\n",
    "        node_A = Node(\"A\")\n",
    "        node_B = Node(\"B\")\n",
    "        node_D = Node(\"D\")\n",
    "        node_E = Node(\"E\")\n",
    "        node_A.next = node_B\n",
    "        node_B.prev = node_A\n",
    "        node_B.next = node_D\n",
    "        node_D.prev = node_B\n",
    "        node_D.next = node_E\n",
    "        node_E.prev = node_D\n",
    "        \n",
    "    \n",
    "    def print_list():\n",
    "        global node_A\n",
    "        node = node_A\n",
    "        while node:\n",
    "            print(node.data)\n",
    "            node = node.next\n",
    "        print\n",
    "    \n",
    "    # 노드 삽입하기 \n",
    "    def insert_node(data):\n",
    "        global node_A \n",
    "        new_node = Node(data)\n",
    "        node_T = node_A\n",
    "        node_N = node_A\n",
    "        \n",
    "        while node_N.data <= data:\n",
    "            node_T = node_N\n",
    "            node_N = node_N.next\n",
    "        new_node.next = node_N\n",
    "        node_T.next = new_node\n",
    "        ## 이중 연결 리스트 삽입 추가 부분\n",
    "        new_node.prev = node_T\n",
    "        node_N.prevv = new_node\n",
    "        \n",
    "        \n",
    "    if __name__ == '__main__':\n",
    "        print(\"연결 리스트 초기화\")\n",
    "        init_list()\n",
    "        print_list()\n",
    "        \n",
    "        print(\"<노드 C의 추가>\")\n",
    "        insert_node(\"C\")\n",
    "        print_list()"
   ]
  },
  {
   "cell_type": "markdown",
   "metadata": {},
   "source": [
    "## 이중 연결 리스트의 삭제 알고리즘\n",
    "### 이중 연결 리스트라 하더라도 기본적인 알고리즘은 단일 연결리스트의 경우와 다르지 않으며 단순히 prev 링크에 대해서만 몇가지만 고려해주면된다"
   ]
  },
  {
   "cell_type": "code",
   "execution_count": 6,
   "metadata": {},
   "outputs": [
    {
     "ename": "NameError",
     "evalue": "name 'prev' is not defined",
     "output_type": "error",
     "traceback": [
      "\u001b[1;31m---------------------------------------------------------------------------\u001b[0m",
      "\u001b[1;31mNameError\u001b[0m                                 Traceback (most recent call last)",
      "\u001b[1;32m<ipython-input-6-998db8635a83>\u001b[0m in \u001b[0;36m<module>\u001b[1;34m\u001b[0m\n\u001b[1;32m----> 1\u001b[1;33m \u001b[1;32mclass\u001b[0m \u001b[0mNode\u001b[0m\u001b[1;33m:\u001b[0m\u001b[1;33m\u001b[0m\u001b[1;33m\u001b[0m\u001b[0m\n\u001b[0m\u001b[0;32m      2\u001b[0m \u001b[1;33m\u001b[0m\u001b[0m\n\u001b[0;32m      3\u001b[0m     \u001b[1;32mdef\u001b[0m \u001b[0m__init__\u001b[0m\u001b[1;33m(\u001b[0m\u001b[0mself\u001b[0m\u001b[1;33m,\u001b[0m\u001b[0mdata\u001b[0m\u001b[1;33m,\u001b[0m\u001b[0mnext\u001b[0m\u001b[1;33m=\u001b[0m\u001b[0mnext\u001b[0m\u001b[1;33m,\u001b[0m\u001b[0mprev\u001b[0m\u001b[1;33m=\u001b[0m\u001b[0mprev\u001b[0m\u001b[1;33m)\u001b[0m\u001b[1;33m:\u001b[0m\u001b[1;33m\u001b[0m\u001b[1;33m\u001b[0m\u001b[0m\n\u001b[0;32m      4\u001b[0m         \u001b[0mself\u001b[0m\u001b[1;33m.\u001b[0m\u001b[0mdata\u001b[0m \u001b[1;33m=\u001b[0m \u001b[0mdata\u001b[0m\u001b[1;33m\u001b[0m\u001b[1;33m\u001b[0m\u001b[0m\n\u001b[0;32m      5\u001b[0m         \u001b[0mself\u001b[0m\u001b[1;33m.\u001b[0m\u001b[0mnext\u001b[0m \u001b[1;33m=\u001b[0m \u001b[0mnext\u001b[0m\u001b[1;33m\u001b[0m\u001b[1;33m\u001b[0m\u001b[0m\n",
      "\u001b[1;32m<ipython-input-6-998db8635a83>\u001b[0m in \u001b[0;36mNode\u001b[1;34m()\u001b[0m\n\u001b[0;32m      1\u001b[0m \u001b[1;32mclass\u001b[0m \u001b[0mNode\u001b[0m\u001b[1;33m:\u001b[0m\u001b[1;33m\u001b[0m\u001b[1;33m\u001b[0m\u001b[0m\n\u001b[0;32m      2\u001b[0m \u001b[1;33m\u001b[0m\u001b[0m\n\u001b[1;32m----> 3\u001b[1;33m     \u001b[1;32mdef\u001b[0m \u001b[0m__init__\u001b[0m\u001b[1;33m(\u001b[0m\u001b[0mself\u001b[0m\u001b[1;33m,\u001b[0m\u001b[0mdata\u001b[0m\u001b[1;33m,\u001b[0m\u001b[0mnext\u001b[0m\u001b[1;33m=\u001b[0m\u001b[0mnext\u001b[0m\u001b[1;33m,\u001b[0m\u001b[0mprev\u001b[0m\u001b[1;33m=\u001b[0m\u001b[0mprev\u001b[0m\u001b[1;33m)\u001b[0m\u001b[1;33m:\u001b[0m\u001b[1;33m\u001b[0m\u001b[1;33m\u001b[0m\u001b[0m\n\u001b[0m\u001b[0;32m      4\u001b[0m         \u001b[0mself\u001b[0m\u001b[1;33m.\u001b[0m\u001b[0mdata\u001b[0m \u001b[1;33m=\u001b[0m \u001b[0mdata\u001b[0m\u001b[1;33m\u001b[0m\u001b[1;33m\u001b[0m\u001b[0m\n\u001b[0;32m      5\u001b[0m         \u001b[0mself\u001b[0m\u001b[1;33m.\u001b[0m\u001b[0mnext\u001b[0m \u001b[1;33m=\u001b[0m \u001b[0mnext\u001b[0m\u001b[1;33m\u001b[0m\u001b[1;33m\u001b[0m\u001b[0m\n",
      "\u001b[1;31mNameError\u001b[0m: name 'prev' is not defined"
     ]
    }
   ],
   "source": [
    "class Node:\n",
    "    \n",
    "    def __init__(self,data,next=None,prev=None):\n",
    "        self.data = data\n",
    "        self.next = next\n",
    "        self.prev = prev\n",
    "        \n",
    "    \n",
    "    def init_list():\n",
    "        global node_A\n",
    "        node_A = Node('A')\n",
    "        node_B = Node('B')\n",
    "        node_D = Node('D')\n",
    "        node_E = Node('E')\n",
    "        node_A.next = node_B\n",
    "        node_B.next = node_D\n",
    "        node_D.next = node_E\n",
    "        node_E.prev = node_D\n",
    "        node_D.prev = node_B\n",
    "        node_B.prev = node_A\n",
    "        \n",
    "    \n",
    "    def print_list():\n",
    "        global node_A\n",
    "        node = node_A\n",
    "        \n",
    "        while node:\n",
    "            print(node.data)\n",
    "            node = node_A.next\n",
    "            \n",
    "    \n",
    "    if __name__ == \"__main__\":\n",
    "        print(\"리스트 초기화\")\n",
    "        init_list()\n",
    "        print_list()\n",
    "        \n",
    "        \n",
    "        \n",
    "        "
   ]
  },
  {
   "cell_type": "code",
   "execution_count": null,
   "metadata": {},
   "outputs": [],
   "source": []
  }
 ],
 "metadata": {
  "kernelspec": {
   "display_name": "Python 3",
   "language": "python",
   "name": "python3"
  },
  "language_info": {
   "codemirror_mode": {
    "name": "ipython",
    "version": 3
   },
   "file_extension": ".py",
   "mimetype": "text/x-python",
   "name": "python",
   "nbconvert_exporter": "python",
   "pygments_lexer": "ipython3",
   "version": "3.7.4"
  }
 },
 "nbformat": 4,
 "nbformat_minor": 2
}
